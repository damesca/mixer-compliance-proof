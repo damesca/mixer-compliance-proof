{
 "cells": [
  {
   "cell_type": "markdown",
   "id": "d91d1ce1",
   "metadata": {},
   "source": [
    "# Linked transactions through decryption mixnet"
   ]
  },
  {
   "cell_type": "markdown",
   "id": "daaf640a",
   "metadata": {},
   "source": [
    "### Message generation\n",
    "\n",
    "The client generates a linkage param $l2 = Enc_{pk_{reg}}(l1)$."
   ]
  },
  {
   "cell_type": "code",
   "execution_count": 1,
   "id": "ed2084a0",
   "metadata": {},
   "outputs": [
    {
     "name": "stdout",
     "output_type": "stream",
     "text": [
      "[1775524039981011121495462682941865724623036169135601256440520905908882632749, 33608594915289454623283872481390628515059737529704737859716988752784396505849, 7681735830421877674634795165573785109936726005552580758703968436089064298067, 10762168147482095265489545761490920162048005927697042119888083433626942738833, 8864636379641307987985582655993892125665954886639156314962949313547533029400547411406265429646812064672002946472067268869633225969806321590557478802774207323884570485379928282206644760402266682209472353879853329746198198569849041406744710452509092720132913649736125756874630207470]\n",
      "25\n"
     ]
    }
   ],
   "source": [
    "from elgamal import ElGamal, ElGamalHashed\n",
    "from point import Point\n",
    "from Crypto.Cipher import AES\n",
    "from Crypto.Random import get_random_bytes\n",
    "from sage.all_cmdline import *\n",
    "from hybrid import Hybrid\n",
    "import secrets\n",
    "from binascii import hexlify\n",
    "import utils\n",
    "from secret_sharing import SecretSharing"
   ]
  },
  {
   "cell_type": "code",
   "execution_count": 2,
   "id": "c80b17b1",
   "metadata": {},
   "outputs": [],
   "source": [
    "q = Integer(8864636379641307987985582655993892125665954886639156314962949313547533029400547411406265429646812064672002946472067268869633225969806321590557478802774207323884570485379928282206644760402266682209472353933681352679372637254752717498141909964176598352222875644485687285283916382943)\n",
    "Fq = GF(q)"
   ]
  },
  {
   "cell_type": "markdown",
   "id": "be223581",
   "metadata": {},
   "source": [
    "### Generate Regulator's ElGamal keys"
   ]
  },
  {
   "cell_type": "code",
   "execution_count": 3,
   "id": "6ecf54c7",
   "metadata": {},
   "outputs": [
    {
     "name": "stdout",
     "output_type": "stream",
     "text": [
      "Regulator public key: (19819832094496099866928375340255747902151251946611037565488298661426499872897:11933007389734686118209142080198374538789847479047464803660873982737628468054)\n"
     ]
    }
   ],
   "source": [
    "regHenc = ElGamalHashed()\n",
    "regPK = regHenc.getPublicKey()\n",
    "print('Regulator public key: {}'.format(regPK))"
   ]
  },
  {
   "cell_type": "markdown",
   "id": "75605946",
   "metadata": {},
   "source": [
    "### Generate Alice's parameters"
   ]
  },
  {
   "cell_type": "markdown",
   "id": "a4b5d31d",
   "metadata": {},
   "source": [
    "Alice computes $l1$ and sends $Tx_1(l1)$ to the mixer."
   ]
  },
  {
   "cell_type": "code",
   "execution_count": 4,
   "id": "f1f74c7e",
   "metadata": {},
   "outputs": [],
   "source": [
    "address = secrets.randbits(160).to_bytes(20, 'little')\n",
    "l1 = secrets.randbits(256)"
   ]
  },
  {
   "cell_type": "markdown",
   "id": "580435ff",
   "metadata": {},
   "source": [
    "Compute $l2 = Enc_{regPK}(l1)$"
   ]
  },
  {
   "cell_type": "code",
   "execution_count": 5,
   "id": "5c9b4efa",
   "metadata": {},
   "outputs": [],
   "source": [
    "aliceHenc = ElGamalHashed(regPK)\n",
    "l2_C1p, l2_c2 = aliceHenc.encrypt(l1)"
   ]
  },
  {
   "cell_type": "markdown",
   "id": "47dfc53b",
   "metadata": {},
   "source": [
    "Format data as $m = (addr || l2_{C1}.x || l2_{C1}.y || l2_{c2})$.\n",
    "Note that $l2_{C1}$ is a point in the curve. The message $m$ will be sent (encrypted) to the mixnet, and the mixer will send $Tx_2(addr, l2)$."
   ]
  },
  {
   "cell_type": "code",
   "execution_count": 6,
   "id": "58b61a9b",
   "metadata": {},
   "outputs": [
    {
     "name": "stdout",
     "output_type": "stream",
     "text": [
      "20\n",
      "32\n",
      "32\n",
      "32\n",
      "116\n"
     ]
    }
   ],
   "source": [
    "l2_C1p_x = int(l2_C1p.x).to_bytes(32, 'little')\n",
    "l2_C1p_y = int(l2_C1p.y).to_bytes(32, 'little')\n",
    "    \n",
    "m = address + l2_C1p_x + l2_C1p_y + l2_c2\n",
    "print(len(address))\n",
    "print(len(l2_C1p_x))\n",
    "print(len(l2_C1p_y))\n",
    "print(len(l2_c2))\n",
    "print(len(m))"
   ]
  },
  {
   "cell_type": "code",
   "execution_count": 7,
   "id": "30d4c7ab",
   "metadata": {},
   "outputs": [
    {
     "name": "stdout",
     "output_type": "stream",
     "text": [
      "--address: \n",
      "   b'9241f88242c5a108d4c185a1e09ee2860cefe55d'\n",
      "--l1: \n",
      "   b'e0bb778a79d6f7411cc22565039ef77006ae30fd1e061de37233e0785825e5af'\n",
      "--l2_C1p: \n",
      "   (15468368586536123710241135122682120371962103144701054432153941122156310330803:5861468849881430319581420247830155066358613738265151679594953630018747310484)\n",
      "--l2_c2: \n",
      "   b'd82220dcf5311d91693ec9e966a6b0b3c278d8d97ed81c1ddc4f71f19ff8081c'\n",
      "--m: \n",
      "   b'9241f88242c5a108d4c185a1e09ee2860cefe55db37de45f3504cd56d06055da67a58aab74b9996f3fee33542b25d6054fc932229421fd91f3d21ba168f7db1263ddf6f8a466c953a02faeb694bbb5194b79f50cd82220dcf5311d91693ec9e966a6b0b3c278d8d97ed81c1ddc4f71f19ff8081c'\n"
     ]
    }
   ],
   "source": [
    "print('--address: \\n   {}'.format(hexlify(address)))\n",
    "print('--l1: \\n   {}'.format(hexlify(l1.to_bytes(32, 'little'))))\n",
    "print('--l2_C1p: \\n   {}'.format(l2_C1p))\n",
    "print('--l2_c2: \\n   {}'.format(hexlify(l2_c2)))\n",
    "print('--m: \\n   {}'.format(hexlify(m)))"
   ]
  },
  {
   "cell_type": "markdown",
   "id": "d003810b",
   "metadata": {},
   "source": [
    "### Compute the MAC for verification\n",
    "\n",
    "$MAC = m \\cdot k$"
   ]
  },
  {
   "cell_type": "code",
   "execution_count": 13,
   "id": "b10cd845",
   "metadata": {},
   "outputs": [
    {
     "name": "stdout",
     "output_type": "stream",
     "text": [
      "248483324236906315691874659933815625105823077552441985305614174132724800629146737909991381904409606511385444424482850347653549614529710157333242255274882963354211765462306906079675006970829223536769659152855933940465534218880955125377947135121990891316508263250225999971037495698\n",
      "116\n",
      "MAC:\n",
      " 6391737893821567098698775451419632036989970354851313254585358849958701397819785556819053194586725572099816852101282002546275203184038370342884055981995748943766724252933083797537886901643028304494106818095004955996960923103272711116137969131633771885456151537728535359443149800226\n"
     ]
    }
   ],
   "source": [
    "k = secrets.randbits(256)\n",
    "m_int = int.from_bytes(m, 'little')\n",
    "print(m_int)\n",
    "print(len(m))\n",
    "mac = Fq(m_int)*Fq(k)\n",
    "print(\"MAC:\\n {}\".format(mac))"
   ]
  },
  {
   "cell_type": "markdown",
   "id": "dfe74bd1",
   "metadata": {},
   "source": [
    "### Secret share m"
   ]
  },
  {
   "cell_type": "code",
   "execution_count": 16,
   "id": "540bfd21",
   "metadata": {},
   "outputs": [
    {
     "name": "stdout",
     "output_type": "stream",
     "text": [
      "Shares of m:\n",
      "\n",
      "   1123657260650773913692831718406488539412802127088136985210309071092249811333\n",
      "   56539447573140586917012779578989424664345979958640866259734755157582080626120\n",
      "   11091273845204910005822397293229381557648728745471763888393542788641133869630\n",
      "   23985705365204750736538044171482744249093333691309431663291352473300323552213\n",
      "   248483324236906315691874659933815625105823077552441985305614174132724800629146737909991381904409606511385444424482850347653549614529710157333242255274882963354211765462306906079675006970829223536769659060115849896264512645814902363269908124621146368806309466620266509355249636402\n",
      "Shares of k:\n",
      "\n",
      "   41788539494004787008418772900580471569963767180811603599294435007971754629450\n",
      "   25292545357664235587899041815746616931895640068286800088968514897516106876442\n",
      "   36864151019490659110690970948237743876751821804914137835457112592525092264731\n",
      "   40474416069148220741778783933067662551690349396006975131829829910521524795509\n",
      "   8864636379641307987985582655993892125665954886639156314962949313547533029400547411406265429646812064672002946472067268869633225969806321590557478802774207323884570485379928282206644760402266682209472353867003924918408202081450989641998541253459393974955582915943745315033034016830\n"
     ]
    }
   ],
   "source": [
    "ss_m = SecretSharing(Fq(m_int), 5)\n",
    "ss_k = SecretSharing(Fq(k), 5)\n",
    "m_shared = ss_m.share()\n",
    "k_shared = ss_k.share()\n",
    "print(\"Shares of m:\\n\")\n",
    "for i in range(0, len(m_shared)): print(\"   m({}) {}\".format(i, m_shared[i]))\n",
    "print(\"Shares of k:\\n\")\n",
    "for i in range(0, len(k_shared)): print(\"   k({}) {}\".format(i, k_shared[i]))"
   ]
  },
  {
   "cell_type": "code",
   "execution_count": null,
   "id": "8c172ec3",
   "metadata": {},
   "outputs": [],
   "source": []
  }
 ],
 "metadata": {
  "kernelspec": {
   "display_name": "Python 3 (ipykernel)",
   "language": "python",
   "name": "python3"
  },
  "language_info": {
   "codemirror_mode": {
    "name": "ipython",
    "version": 3
   },
   "file_extension": ".py",
   "mimetype": "text/x-python",
   "name": "python",
   "nbconvert_exporter": "python",
   "pygments_lexer": "ipython3",
   "version": "3.10.6"
  }
 },
 "nbformat": 4,
 "nbformat_minor": 5
}
